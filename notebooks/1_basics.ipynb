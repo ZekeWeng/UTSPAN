{
 "cells": [
  {
   "cell_type": "markdown",
   "metadata": {},
   "source": [
    "# Sports Analytics Basics\n",
    "\n",
    "Authored by Zeke Weng"
   ]
  },
  {
   "cell_type": "markdown",
   "metadata": {},
   "source": [
    "### Lesson Plan\n",
    "\n",
    "* Python\n",
    "* Pandas\n",
    "* Numpy"
   ]
  },
  {
   "cell_type": "code",
   "execution_count": null,
   "metadata": {},
   "outputs": [],
   "source": [
    "# Import the necessary modules as aliases\n",
    "\n",
    "import pandas as pd\n",
    "import numpy as np\n",
    "import numpy as np"
   ]
  },
  {
   "cell_type": "markdown",
   "metadata": {},
   "source": [
    "### Pandas Basics"
   ]
  },
  {
   "cell_type": "code",
   "execution_count": null,
   "metadata": {},
   "outputs": [],
   "source": [
    "# Creating Series\n",
    "\n",
    "s = pd.Series([1, 3, 5, np.nan, 6, 8])"
   ]
  },
  {
   "cell_type": "code",
   "execution_count": null,
   "metadata": {},
   "outputs": [],
   "source": [
    "s"
   ]
  },
  {
   "cell_type": "code",
   "execution_count": null,
   "metadata": {},
   "outputs": [],
   "source": [
    "# Creating DataFrames\n",
    "\n",
    "df = pd.DataFrame(\n",
    "    {\n",
    "        \"Basketball\": 1.0,\n",
    "        \"Football\": pd.Timestamp(\"20130102\"),\n",
    "        \"Hockey\": pd.Series(1, index=list(range(4)), dtype=\"float32\"),\n",
    "        \"Soccer\": np.array([3] * 4, dtype=\"int32\"),\n",
    "        \"Bouldering\": pd.Categorical([\"test\", \"train\", \"test\", \"train\"])\n",
    "    }\n",
    ")"
   ]
  },
  {
   "cell_type": "code",
   "execution_count": null,
   "metadata": {},
   "outputs": [],
   "source": [
    "df"
   ]
  },
  {
   "cell_type": "code",
   "execution_count": null,
   "metadata": {},
   "outputs": [],
   "source": [
    "# Retrieving data\n",
    "\n",
    "url = 'https://raw.githubusercontent.com/UBC-MDS/DSCI_522_OlympicMedalPrediction/master/data/athlete_events.csv'\n",
    "olympics = pd.read_csv(url)"
   ]
  },
  {
   "cell_type": "code",
   "execution_count": null,
   "metadata": {},
   "outputs": [],
   "source": [
    "# Observing entries\n",
    "\n",
    "olympics.head(20)\n",
    "\n",
    "olympics.tail(20)"
   ]
  },
  {
   "cell_type": "code",
   "execution_count": null,
   "metadata": {},
   "outputs": [],
   "source": [
    "# Indexing into Data\n",
    "olympics.loc[olympics.Age == 19]\n",
    "olympics.loc[olympics['Team'] == 'United States']\n",
    "olympics.loc[olympics['Team'] == 'University of Toronto']\n",
    "\n",
    "olympics.iloc[0:10]\n",
    "olympics.iloc[-1:]"
   ]
  },
  {
   "cell_type": "code",
   "execution_count": null,
   "metadata": {},
   "outputs": [],
   "source": [
    "# Sorting Values\n",
    "\n",
    "olympics.sort_values(by='Year', ascending=True)\n",
    "olympics.sort_values(by='Year', ascending=False)"
   ]
  },
  {
   "cell_type": "code",
   "execution_count": null,
   "metadata": {},
   "outputs": [],
   "source": [
    "# Boolean Selection\n",
    "\n",
    "olympics.loc[(olympics['Age'] == 19) & (olympics['Team'] == 'Canada') & (olympics['Year'] == 2016)]\n",
    "olympics.loc[(olympics['Age'] == 19) | (olympics['Team'] == 'Canada') | (olympics['Year'] == 2016)]"
   ]
  },
  {
   "cell_type": "code",
   "execution_count": null,
   "metadata": {},
   "outputs": [],
   "source": [
    "olympics.columns"
   ]
  },
  {
   "cell_type": "code",
   "execution_count": null,
   "metadata": {},
   "outputs": [],
   "source": [
    "# Removing Columns\n",
    "\n",
    "olympics.drop(columns='ID')"
   ]
  },
  {
   "cell_type": "code",
   "execution_count": null,
   "metadata": {},
   "outputs": [],
   "source": [
    "olympics"
   ]
  },
  {
   "cell_type": "code",
   "execution_count": null,
   "metadata": {},
   "outputs": [],
   "source": [
    "olympics.drop(columns='ID', inplace=True)\n",
    "olympics"
   ]
  },
  {
   "cell_type": "code",
   "execution_count": null,
   "metadata": {},
   "outputs": [],
   "source": [
    "# Cleaning Data\n",
    "\n",
    "olympics.fillna(0)"
   ]
  },
  {
   "cell_type": "code",
   "execution_count": null,
   "metadata": {},
   "outputs": [],
   "source": [
    "olympics['Medal'].fillna(0, inplace=True)"
   ]
  },
  {
   "cell_type": "code",
   "execution_count": null,
   "metadata": {},
   "outputs": [],
   "source": [
    "# Removing Rows\n",
    "\n",
    "olympics.dropna(inplace=True)"
   ]
  },
  {
   "cell_type": "code",
   "execution_count": null,
   "metadata": {},
   "outputs": [],
   "source": [
    "# Descriptive Statistics\n",
    "\n",
    "olympics[['Height', 'Weight']].describe()"
   ]
  },
  {
   "cell_type": "code",
   "execution_count": null,
   "metadata": {},
   "outputs": [],
   "source": [
    "# Value Counts\n",
    "olympics['Medal'].value_counts()"
   ]
  },
  {
   "cell_type": "code",
   "execution_count": null,
   "metadata": {},
   "outputs": [],
   "source": [
    "# Vectorized Operations\n",
    "\n",
    "def convert_to_freedom_units(x):\n",
    "    return x / 2.54\n",
    "\n",
    "\n",
    "olympics['Height'] = olympics['Height'].apply(convert_to_freedom_units)\n",
    "olympics"
   ]
  },
  {
   "cell_type": "code",
   "execution_count": null,
   "metadata": {},
   "outputs": [],
   "source": [
    "# Merging / Joining\n",
    "\n",
    "olympics_M = olympics[olympics['Sex']=='M']\n",
    "olympics_F = olympics.loc[olympics['Sex'] == 'F']\n",
    "\n",
    "olympics_M"
   ]
  },
  {
   "cell_type": "code",
   "execution_count": null,
   "metadata": {},
   "outputs": [],
   "source": [
    "olympics_F"
   ]
  },
  {
   "cell_type": "code",
   "execution_count": null,
   "metadata": {},
   "outputs": [],
   "source": [
    "pd.concat([olympics_M, olympics_F])"
   ]
  },
  {
   "cell_type": "code",
   "execution_count": null,
   "metadata": {},
   "outputs": [],
   "source": [
    "# Observing\n",
    "olympics.Team.unique()\n",
    "\n",
    "olympics.Team.nunique()"
   ]
  },
  {
   "cell_type": "code",
   "execution_count": null,
   "metadata": {},
   "outputs": [],
   "source": [
    "# Grouping Data\n",
    "\n",
    "olympics.groupby(by='NOC')['Medal'].value_counts()"
   ]
  },
  {
   "cell_type": "code",
   "execution_count": null,
   "metadata": {},
   "outputs": [],
   "source": [
    "# Converting to numpy\n",
    "\n",
    "df.to_numpy()"
   ]
  },
  {
   "cell_type": "code",
   "execution_count": null,
   "metadata": {},
   "outputs": [],
   "source": [
    "# Excel\n",
    "\n",
    "olympics.to_csv('olympics.csv')"
   ]
  },
  {
   "cell_type": "code",
   "execution_count": null,
   "metadata": {},
   "outputs": [],
   "source": []
  }
 ],
 "metadata": {
  "kernelspec": {
   "display_name": "Python 3",
   "language": "python",
   "name": "python3"
  },
  "language_info": {
   "codemirror_mode": {
    "name": "ipython",
    "version": 3
   },
   "file_extension": ".py",
   "mimetype": "text/x-python",
   "name": "python",
   "nbconvert_exporter": "python",
   "pygments_lexer": "ipython3",
   "version": "3.9.10"
  }
 },
 "nbformat": 4,
 "nbformat_minor": 2
}
